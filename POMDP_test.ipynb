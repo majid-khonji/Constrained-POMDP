{
 "cells": [
  {
   "cell_type": "markdown",
   "metadata": {},
   "source": [
    "# POMDP experiments\n",
    "Here we test POMDP, (C)C-POMDP, Durative (C)C-POMDPs"
   ]
  },
  {
   "cell_type": "code",
   "execution_count": 6,
   "metadata": {},
   "outputs": [],
   "source": [
    "import instance as i\n",
    "import solver as s\n",
    "from importlib import reload\n",
    "import time\n",
    "reload(i); reload(s);"
   ]
  },
  {
   "cell_type": "markdown",
   "metadata": {},
   "source": [
    "### Fixed Duration"
   ]
  },
  {
   "cell_type": "code",
   "execution_count": 7,
   "metadata": {},
   "outputs": [
    {
     "name": "stdout",
     "output_type": "stream",
     "text": [
      "┌───────────┐\n",
      "│ 🔥. . . G │\n",
      "│ . . . 🔥🔥│\n",
      "│ . . . . . │\n",
      "│ 🔥🔥. . . │\n",
      "│ S . . . . │\n",
      "└───────────┘\n"
     ]
    }
   ],
   "source": [
    "ins = i.GridInstance()\n",
    "ins.print_state()"
   ]
  },
  {
   "cell_type": "code",
   "execution_count": 16,
   "metadata": {},
   "outputs": [
    {
     "name": "stdout",
     "output_type": "stream",
     "text": [
      "size of tree of possibilities =  271453\n",
      "number of action vars =  90484\n",
      "size of AND-OR tree =  113105\n",
      "# nodes =  113105\n",
      "   ⤷ pre-processing time =  11.210354089736938\n",
      "\n",
      "\n",
      "✔️ ILP objective =  8.965818684475344\n",
      "     ⤷ time =  10.911202192306519\n"
     ]
    }
   ],
   "source": [
    "ins.horizon = 5\n",
    "ins.delta = .1\n",
    "\n",
    "t1 = time.time()\n",
    "T, vlist = s.preprocess(ins)\n",
    "t2 = time.time()-t1\n",
    "print(\"   ⤷ pre-processing time = \", time.time() - t1)\n",
    "print()\n",
    "print()\n",
    "\n",
    "t1 = time.time()\n",
    "ilp_obj, x, _ = s.ILP(ins, T, vlist)\n",
    "print(\"✔️ ILP objective = \", ilp_obj)\n",
    "print(\"     ⤷ time = \", time.time()- t1)\n",
    "# print()\n",
    "\n",
    "# t1 = time.time()\n",
    "# lp_obj, x, _ = s.ILP(ins, T, vlist, continuous=True)\n",
    "# print(\"✔️ LP objective = \", lp_obj)\n",
    "# print(\"    ⤷ time = \", time.time()- t1)\n",
    "# print(\"    ⤷ Frac. LP = \", len({k for k,v in x.items() if v < 1 and v > 0}))\n",
    "\n"
   ]
  },
  {
   "cell_type": "code",
   "execution_count": 18,
   "metadata": {},
   "outputs": [
    {
     "name": "stdout",
     "output_type": "stream",
     "text": [
      "DETERMINSTIC POLICY\n",
      "~~~~~~~~~~~~~~~~~~~~🔥 SUM 🔥~~~~~~~~~~~~~~~~~~~~\n",
      "# iteration 71\n",
      "frontier size     =   14947  (1.3765722090267845%)\n",
      "expanded size     =    2337  (0.21523043102265305%)\n",
      "Total Exploration =   17284  (1.5918026400494376%)\n",
      "Time              = 177.189\n",
      "~~~~~~~~~~~~~~~~~~~~🔥~~~~~🔥~~~~~~~~~~~~~~~~~~~~\n",
      "objective =  9.659320838718147\n"
     ]
    }
   ],
   "source": [
    "ins.horizon = 6\n",
    "ins.delta = .1\n",
    "\n",
    "print(\"DETERMINSTIC POLICY\")\n",
    "search_ilp, x_s,_ = s.heuristic_search(ins, continuous=False)\n",
    "print(\"objective = \", search_ilp)\n",
    "\n",
    "# print()\n",
    "# print(\"Stochastic POLICY\")\n",
    "# search_lp = s.heuristic_search(ins, continuous=True)\n",
    "# print(\"objective = \", search_ilp[0])\n",
    "# # print(search_lp[1])\n",
    "# print(\" ⤷ # Frac. LP = {} out of {} \".format( len({k for k,v in search_lp[1].items() if v < 1 and v > 0}), len(search_lp[1]) ))\n",
    "\n"
   ]
  },
  {
   "cell_type": "markdown",
   "metadata": {},
   "source": [
    "### Notes\n",
    "\n",
    "- There is a slight objective mismatch: $h=3, \\Delta =.3$"
   ]
  },
  {
   "cell_type": "code",
   "execution_count": null,
   "metadata": {},
   "outputs": [],
   "source": [
    "print(\"ILP \", sum([v*T.nodes[k]['u'] for k,v in x.items()]))\n",
    "print(\"S   \", sum([v*T.nodes[k]['u'] for k,v in x_s.items()]))"
   ]
  },
  {
   "cell_type": "code",
   "execution_count": null,
   "metadata": {},
   "outputs": [],
   "source": [
    "{k:T.nodes[k]['r'] for k,v in x.items()}, {k:T.nodes[k]['r'] for k,v in x_s.items()}"
   ]
  },
  {
   "cell_type": "code",
   "execution_count": 15,
   "metadata": {},
   "outputs": [
    {
     "data": {
      "text/plain": [
       "({(2,): 1.0,\n",
       "  (2, 0, 1): 1.0,\n",
       "  (2, 0, 1, 0, 3): 1.0,\n",
       "  (2, 0, 1, 1, 3): 1.0,\n",
       "  (2, 0, 1, 2, 3): 1.0,\n",
       "  (2, 1, 2): 1.0,\n",
       "  (2, 1, 2, 0, 3): 1.0,\n",
       "  (2, 1, 2, 1, 3): 1.0,\n",
       "  (2, 1, 2, 2, 3): 1.0,\n",
       "  (2, 2, 1): 1.0,\n",
       "  (2, 2, 1, 0, 3): 1.0,\n",
       "  (2, 2, 1, 1, 3): 1.0,\n",
       "  (2, 2, 1, 2, 3): 1.0},\n",
       " {(2,): 1.0,\n",
       "  (2, 2, 1): 1.0,\n",
       "  (2, 1, 2): 1.0,\n",
       "  (2, 0, 1): 1.0,\n",
       "  (2, 1, 2, 2, 3): 1.0,\n",
       "  (2, 1, 2, 1, 3): 1.0,\n",
       "  (2, 1, 2, 0, 3): 1.0,\n",
       "  (2, 0, 1, 2, 3): 1.0,\n",
       "  (2, 0, 1, 1, 3): 1.0,\n",
       "  (2, 0, 1, 0, 3): 1.0,\n",
       "  (2, 2, 1, 1, 3): 1.0,\n",
       "  (2, 2, 1, 0, 3): 1.0,\n",
       "  (2, 2, 1, 2, 3): 1.0})"
      ]
     },
     "execution_count": 15,
     "metadata": {},
     "output_type": "execute_result"
    }
   ],
   "source": [
    "x, x_s\n"
   ]
  },
  {
   "cell_type": "code",
   "execution_count": null,
   "metadata": {},
   "outputs": [],
   "source": []
  }
 ],
 "metadata": {
  "kernelspec": {
   "display_name": "Python 3",
   "language": "python",
   "name": "python3"
  },
  "language_info": {
   "codemirror_mode": {
    "name": "ipython",
    "version": 3
   },
   "file_extension": ".py",
   "mimetype": "text/x-python",
   "name": "python",
   "nbconvert_exporter": "python",
   "pygments_lexer": "ipython3",
   "version": "3.7.6"
  }
 },
 "nbformat": 4,
 "nbformat_minor": 4
}
